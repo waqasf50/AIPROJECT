{
 "cells": [
  {
   "cell_type": "markdown",
   "metadata": {},
   "source": [
    "# Car Price Prediction Model Training\n",
    "This notebook demonstrates training a simple linear regression model for car price prediction."
   ]
  },
  {
   "cell_type": "code",
   "execution_count": null,
   "metadata": {},
   "source": [
    "import pandas as pd\n",
    "import numpy as np\n",
    "from sklearn.model_selection import train_test_split\n",
    "from sklearn.linear_model import LinearRegression\n",
    "from sklearn.preprocessing import LabelEncoder\n",
    "import pickle\n",
    "\n",
    "# Load the data\n",
    "data = pd.read_csv('data/car_data.csv')\n",
    "\n",
    "# Encode categorical variables\n",
    "le = LabelEncoder()\n",
    "data['Brand_encoded'] = le.fit_transform(data['Brand'])\n",
    "\n",
    "# Prepare features and target\n",
    "X = data[['Year', 'Brand_encoded', 'Mileage']]\n",
    "y = data['Price']\n",
    "\n",
    "# Split the data\n",
    "X_train, X_test, y_train, y_test = train_test_split(X, y, test_size=0.2, random_state=42)\n",
    "\n",
    "# Train the model\n",
    "model = LinearRegression()\n",
    "model.fit(X_train, y_train)\n",
    "\n",
    "# Save the model and encoder\n",
    "with open('model.pkl', 'wb') as f:\n",
    "    pickle.dump((model, le), f)\n",
    "\n",
    "# Test prediction\n",
    "test_score = model.score(X_test, y_test)\n",
    "print(f\"Model R² score: {test_score:.2f}\")"
   ]
  }
 ],
 "metadata": {
  "kernelspec": {
   "display_name": "Python 3",
   "language": "python",
   "name": "python3"
  }
 }
}